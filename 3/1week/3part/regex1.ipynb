{
 "cells": [
  {
   "cell_type": "code",
   "execution_count": 80,
   "outputs": [
    {
     "data": {
      "text/plain": "'<!doctype html>\\n<html lang=\"en\" dir=\"ltr\">\\n<head>\\n  <script>\\n            (function() {\\n            const agent = typeof navigator !== \\'undefined\\' ? navigator.userAgent : \\'\\';\\n            const REGEX_MATCH_CLIENT_TYPE = /BNC\\\\/([0-9.]+) \\\\(([a-zA-Z]+) ([0-9.]+)\\\\)/;\\n            if(REGEX_MATCH_CLIENT_TYPE.test(agent)){\\n              return null\\n            }\\n            function getJSON(str) {\\n              try {\\n                return JSON.parse(str)\\n              } catch (e) {\\n                return {}\\n              }\\n            }\\n\\n            var AutoBlockScriptMap = getJSON(\\'{\"binance.com\":\"https://cdn.cookielaw.org/consent/e21a0e13-40c2-48a6-9ca2-57738356cdab/OtAutoBlock.js\",\"binance.info\":\"https://cdn.cookielaw.org/consent/03246444-2043-432d-afae-413a91f535e9/OtAutoBlock.js\",\"binance.me\":\"https://cdn.cookielaw.org/consent/39df5304-ea83-4bd5-8550-d57bca54d95a/OtAutoBlock.js\"}\\');\\n            var SDKStubInfoMap = getJSON(\\'{\"binance.com\":{\"src\":\"https://cdn.cookielaw.org/scripttemplates/otSDKStub.js\",\"hash\":\"e21a0e13-40c2-48a6-9ca2-57738356cdab\"},\"binance.info\":{\"src\":\"https://cdn.cookielaw.org/scripttemplates/otSDKStub.js\",\"hash\":\"03246444-2043-432d-afae-413a91f535e9\"},\"binance.me\":{\"src\":\"https://cdn.cookielaw.org/scripttemplates/otSDKStub.js\",\"hash\":\"39df5304-ea83-4bd5-8550-d57bca54d95a\"}}\\');\\n\\n            var domain = location.hostname.split(\\'.\\').slice(-2).join(\\'.\\');\\n            // var domain = \\'binance.com\\';\\n\\n            function isString(str) {\\n              return str && typeof str === \\'string\\';\\n            };\\n\\n            var AutoBlockScript = AutoBlockScriptMap[domain];\\n            var stubInfo = SDKStubInfoMap[domain] || {};\\n\\n            var SDKStubSrc = stubInfo.src;\\n            var SDKStubHash = stubInfo.hash;\\n\\n            var injectAutoBlock = isString(AutoBlockScript);\\n            var injectSDKStub = isString(SDKStubSrc) && isString(SDKStubHash);\\n\\n            if (injectAutoBlock) {\\n              var script = document.createElement(\\'script\\');\\n              script.src = AutoBlockScript;\\n              script.type = \\'text/javascript\\';\\n              document.head.appendChild(script);\\n            }\\n\\n            if (injectSDKStub) {\\n              var script = document.createElement(\\'script\\');\\n              script.src = SDKStubSrc;\\n              script.type = \\'text/javascript\\';\\n              script.setAttribute(\\'charSet\\', \\'UTF-8\\');\\n              script.setAttribute(\\'data-domain-script\\', SDKStubHash);\\n              document.head.appendChild(script);\\n\\n              var s = document.createElement(\\'script\\')\\n              s.type = \\'text/javascript\\'\\n              s.innerHTML = \\'function OptanonWrapper() {};\\'\\n              document.head.appendChild(s)\\n\\n              var ss = document.createElement(\\'script\\');\\n              ss.src = \\'https://bin.bnbstatic.com/static/one-trust/onetrust-trigger.js\\';\\n              ss.type = \\'text/javascript\\';\\n              ss.setAttribute(\\'charSet\\', \\'UTF-8\\');\\n              ss.setAttribute(\\'data-domain-script\\', SDKStubHash);\\n              document.head.appendChild(ss);\\n\\n            }\\n            }())</script><meta http-equiv=\"etag\" content=\"8cab88d30eeaa244c4033243631de04650d6bed3\" /><link rel=\"shortcut icon\" type=\"image/x-icon\" href=\"https://bin.bnbstatic.com/static/images/common/favicon.ico\" /><link rel=\"apple-touch-icon\" type=\"image/png\" href=\"https://bin.bnbstatic.com/static/images/bnb-for/brand.png\" /><link rel=\"icon\" type=\"image/png\" href=\"https://bin.bnbstatic.com/static/images/bnb-for/brand.png\" /><meta name=\"msapplication-TileImage\" content=\"https://bin.bnbstatic.com/static/images/bnb-for/brand.png\" /><meta name=\"viewport\" content=\"user-scalable=no,width=device-width,initial-scale=1.0,maximum-scale=1.0,minimum-scale=1.0\" /><link rel=\"preload\" href=\"https://bin.bnbstatic.com/static/css/c9f44135.chunk.css\" as=\"script\" /><link rel=\"preload\" href=\"https://bin.bnbstatic.com/static/chunks/bnc~pl~1.c2947aea.js\" as=\"script\" /><link rel=\"preload\" href=\"https://bin.bnbstatic.com/api/i18n/-/web/cms/en/widget-common\" as=\"fetch\" crossorigin=\"anonymous\" /><link rel=\"preload\" href=\"https://bin.bnbstatic.com/api/i18n/-/web/cms/en/trade-ui\" as=\"fetch\" crossorigin=\"anonymous\" /><link rel=\"preload\" href=\"https://bin.bnbstatic.com/api/i18n/-/web/cms/en/Navigation\" as=\"fetch\" crossorigin=\"anonymous\" /><link rel=\"preload\" href=\"https://bin.bnbstatic.com/api/i18n/-/web/cms/en/kline-ui\" as=\"fetch\" crossorigin=\"anonymous\" /><link rel=\"preload\" href=\"https://bin.bnbstatic.com/api/i18n/-/web/cms/en/asset-transfer\" as=\"fetch\" crossorigin=\"anonymous\" /><link rel=\"preload\" href=\"https://bin.bnbstatic.com/api/i18n/-/web/cms/en/kyc-errorCode\" as=\"fetch\" crossorigin=\"anonymous\" /><link rel=\"preload\" as=\"font\" type=\"font/otf\" cross-origin=\"use-credentials\" href=\"https://bin.bnbstatic.com/static/fonts/bp/BinancePlex-Regular.otf\" /><link rel=\"preload\" as=\"font\" type=\"font/otf\" cross-origin=\"use-credentials\" href=\"https://bin.bnbstatic.com/static/fonts/bp/BinancePlex-SemiBold.otf\" /><link rel=\"canonical\" href=\"https://www.binance.com/en/trade/DOT_USDT\" /><meta charset=\"utf-8\" data-shuvi-head=\"true\" /><title data-shuvi-head=\"true\">6.38 | DOTUSDT | Binance Spot</title><meta name=\"keywords\" content=\"Blockchain Crypto Exchange, Cryptocurrency Exchange, Bitcoin Trading, Ethereum price trend, BNB, CZ, BTC price, ETH wallet registration, LTC price, Binance, Poloniex, Bittrex\" data-shuvi-head=\"true\" /><meta name=\"description\" content=\"Binance cryptocurrency exchange - We operate the worlds biggest bitcoin exchange and altcoin crypto exchange in the world by volume\" data-shuvi-head=\"true\" /><meta property=\"og:type\" content=\"website\" data-shuvi-head=\"true\" /><meta property=\"og:title\" content=\"6.38 | DOTUSDT | Binance Spot\" data-shuvi-head=\"true\" /><meta property=\"og:site_name\" content=\"Binance\" data-shuvi-head=\"true\" /><meta property=\"og:image\" content=\"https://public.bnbstatic.com/static/images/common/ogImage.jpg\" data-shuvi-head=\"true\" /><meta property=\"twitter:title\" content=\"6.38 | DOTUSDT | Binance Spot\" data-shuvi-head=\"true\" /><meta property=\"twitter:site\" content=\"Binance\" data-shuvi-head=\"true\" /><meta property=\"twitter:image\" content=\"https://public.bnbstatic.com/static/images/common/ogImage.jpg\" data-shuvi-head=\"true\" /><meta property=\"twitter:image:src\" content=\"https://public.bnbstatic.com/static/images/common/ogImage.jpg\" data-shuvi-head=\"true\" /><meta property=\"twitter:card\" content=\"summary_large_image\" data-shuvi-head=\"true\" /><meta name=\"apple-mobile-web-app-status-bar-style\" content=\"black\" data-shuvi-head=\"true\" /><meta name=\"apple-mobile-web-app-capable\" content=\"yes\" data-shuvi-head=\"true\" /><meta name=\"format-detection\" content=\"email=no\" data-shuvi-head=\"true\" /><meta name=\"viewport\" content=\"width=device-width,minimum-scale=1,maximum-scale=1.0,initial-scale=1,user-scalable=no,viewport-fit=true\" data-shuvi-head=\"true\" /><link rel=\"preload\" href=\"https://bin.bnbstatic.com/static/chunks/common3.a60ad047.js\" as=\"script\" /><link rel=\"preload\" href=\"https://bin.bnbstatic.com/static/chunks/66eb503cce91214a5e4d8452d5ddfc0124815975.2821a0c9.js\" as=\"script\" /><link rel=\"preload\" href=\"https://bin.bnbstatic.com/static/chunks/511a553e9a5cf3d70eedfef653e06945c78c2668.d81a03e3.js\" as=\"script\" /><link rel=\"preload\" href=\"https://bin.bnbstatic.com/static/chunks/65565542a73299c6ad1bc7eb94f66c63ee9bdb73.b95c238f.js\" as=\"script\" /><link rel=\"preload\" href=\"https://bin.bnbstatic.com/static/chunks/65a5ecc76944516643f54e8ab1af8748b2861965.b3219660.js\" as=\"script\" /><link rel=\"preload\" href=\"https://bin.bnbstatic.com/static/chunks/page-9af6.9cc0458f.js\" as=\"script\" /><link rel=\"stylesheet\" href=\"https://bin.bnbstatic.com/static/css/8862c7ec.css\" /><script id=\"gtm-trueMetrics\">(function(w,d,s,l,i){w[l]=w[l]||[];w[l].push({\\'gtm.start\\':\\nnew Date().getTime(),event:\\'gtm.js\\'});var f=d.getElementsByTagName(s)[0],\\nj=d.createElement(s),dl=l!=\\'dataLayer\\'?\\'&l=\\'+l:\\'\\';j.async=true;j.src=\\n\\'https://www.googletagmanager.com/gtm.js?id=\\'+i+dl;f.parentNode.insertBefore(j,f);\\n})(window,document,\\'script\\',\\'dataLayer\\',\\'GTM-M86QHGF\\');</script><script>\\n          (function() {\\n          var cookies = document.cookie.split(\\';\\');\\n          var keyValue = cookies.find(mp => {\\n            var values = mp.split(\\'=\\');\\n            return values[0].trim() === \\'data_opt_out\\';\\n          });\\n          if(keyValue && keyValue.split(\\'=\\')[1] === \\'y\\') {\\n            window[\\'ga-disable-M86QHGF\\'] = true;\\n          }}())\\n          </script><script>(function (w, l) {\\n  w[l] = w[l] || [];\\n})(window, \\'dataLayer\\');</script><link rel=\"preload\" href=\"https://bin.bnbstatic.com/static/fonts/index.min.css\" as=\"style\" /><link rel=\"stylesheet\" type=\"text/css\" href=\"https://bin.bnbstatic.com/static/fonts/index.min.css\" /><link rel=\"preload\" href=\"https://bin.bnbstatic.com/static/fonts/font.min.css\" as=\"style\" /><link rel=\"stylesheet\" type=\"text/css\" href=\"https://bin.bnbstatic.com/static/fonts/font.min.css\" />\\n</head>\\n<body>\\n  <script id=\"__APP_DATA\" type=\"application/json\">{\"routeProps\":{\"fb5e\":{}},\"dynamicIds\":[\"pJsb\",\"VTrZ\",\"8M3I\",\"TKvM\",\"8+IJ\",\"GqGR\",\"tkqQ\",\"UhQO\",\"BXGO\",\"8waM\",\"RCIg\",\"eQT1\",\"yRy7\",\"pLFi\",\"7Vnt\",\"jdbS\",\"pAFd\",\"JAyu\",\"hKxX\",\"3733\",\"or2+\",\"RrQo\",\"4gOV\",\"9T+y\",\"u80B\",\"i1oB\",\"eSUc\",\"oy7O\",\"jwYT\",\"d+/4\",\"U4aL\",\"x2HU\",\"Nt8u\",\"g9tP\",\"JK6A\",\"AI5V\",\"itqq\",\"A4o6\",\"6dmz\",\"8zFk\",\"WjCg\",\"rDPC\",\"F94d\",\"D+91\",\"o5l6\",\"mlQo\",\"Max4\",\"u3+8\",\"mc6X\",\"Khpo\",\"OSAj\",\"c0mf\",\"Jd6E\",\"vTkp\",\"Bizz\",\"qg/E\",\"kdgh\",\"AHPv\"],\"appProps\":{\"metaData\":{\"title\":\"6.38 | DOTUSDT | Binance Spot\",\"keywords\":\"Blockchain Crypto Exchange, Cryptocurrency Exchange, Bitcoin Trading, Ethereum price trend, BNB, CZ, BTC price, ETH wallet registration, LTC price, Binance, Poloniex, Bittrex\",\"description\":\"Binance cryptocurrency exchange - We operate the worlds biggest bitcoin exchange and altcoin crypto exchange in the world by volume\"},\"ua\":\"Amazon CloudFront\",\"lng\":\"en\",\"pathname\":\"/en/trade/DOT_USDT\",\"marginPage\":false},\"pageData\":{\"redux\":{\"loading\":{\"global\":false,\"models\":{\"cookies\":false,\"global\":false,\"assets\":false,\"chart\":false,\"exchangeInfo\":false,\"market\":false,\"miniTicker\":false,\"orderForm\":false,\"orders\":false,\"pageStore\":false,\"products\":false,\"setting\":false,\"ticker\":false,\"tradeNews\":false,\"userCenter\":false,\"userProfile\":false,\"chartType\":false,\"margin\":false},\"effects\":{\"cookies\":{\"loadCurrency\":false},\"global\":{\"queryRegion\":false,\"queryMetaData\":false},\"assets\":{\"queryAllUserAssets\":false},\"chart\":{\"toggleIndicatorsDialog\":false},\"exchangeInfo\":{},\"market\":{\"queryFavorites\":false,\"oprFavorite\":false,\"queryLogos\":false},\"miniTicker\":{\"updateSpot\":false},\"orderForm\":{\"queryBurnBnbRate\":false},\"orders\":{},\"pageStore\":{\"toggleTradeType\":false,\"toggleFullScreen\":false,\"updateIfShowBannedWarning\":false,\"updateDepthScale\":false,\"queryCoinInfo\":false,\"queryBannedProducts\":false},\"products\":{\"queryProduct\":false,\"queryBizTags\":false,\"queryMarginSymbol\":false},\"setting\":{\"save\":false,\"toggleTheme\":false,\"toggleLayout\":false,\"toggleColor\":false,\"toggleIsRedUpGreenDown\":false},\"ticker\":{},\"tradeNews\":{\"getTradeNews\":false},\"userCenter\":{\"checkLogin\":false,\"queryCurrency\":false,\"queryUserConfig\":false,\"updateCurrentFiat\":false,\"updateOrderConfirmStatus\":false,\"queryLanguage\":false,\"getPOANoticeResult\":false},\"userProfile\":{\"save\":false},\"chartType\":{},\"margin\":{\"queryMarginAccount\":false,\"queryMarginInterest\":false,\"queryMarginAssets\":false,\"queryPriceIndex\":false,\"queryMarginCoeff\":false,\"queryIsolatedAccount\":false,\"queryIsolatedInterest\":false,\"queryUniMarginAccount\":false}}},\"cookies\":{\"theme\":\"light\",\"userPreferredCurrency\":\"USD_USD\"},\"global\":{\"origin\":\"\",\"url\":\"\",\"path\":\"\",\"host\":\"\",\"dir\":\"ltr\",\"metaData\":{\"metaTitle\":\"Binance\",\"metaKeyword\":\"Buy/Sell Bitcoin, Ether and Altcoins | Cryptocurrency Exchange | Binance\",\"metaDescription\":\"Binance cryptocurrency exchange - We operate the worlds biggest bitcoin exchange and altcoin crypto exchange in the world by volume\",\"ogImage\":\"\"},\"region\":\"\",\"isHybrid\":false,\"withChat\":true,\"withHeader\":true,\"withFooter\":true,\"withCompliance\":true,\"noticeInfo\":null,\"pageLayout\":1248},\"assets\":{\"assets\":{},\"loading\":false,\"isError\":false},\"chart\":{\"showIndicatorsDialog\":false},\"exchangeInfo\":{\"infos\":{\"DOTUSDT\":{\"levels\":[\"0.1\",\"0.01\"],\"levelsIndex\":[0,1],\"minQty\":\"0.01000000\",\"symbolDisplay\":\"DOT/USDT\"}},\"marketTabs\":{\"USDT\":{\"USDT\":1}}},\"market\":{\"favorites\":[],\"netValue\":{},\"netValueAll\":{},\"sortInfo\":{\"symbol\":\"default\"},\"radioWord\":\"change\",\"logos\":{}},\"miniTicker\":{\"rawTicker\":{},\"tickerDict\":{}},\"orderForm\":{\"priceQty\":{},\"burnBnbRate\":\"1\",\"lastNewPrices\":{\"ask\":[],\"bid\":[]},\"inputFocus\":{\"priceFocus\":false,\"side\":\"BUY\"}},\"orders\":{\"openOrder\":{\"loading\":true,\"isError\":false,\"preOrders\":[],\"updateTime\":1657775460784},\"orderHistory\":{\"total\":0,\"loading\":true,\"preHistory\":[],\"updateTime\":1657775460784}},\"pageStore\":{\"symbolChangedCounter\":0,\"symbol\":[\"DOTUSDT\",[\"DOT\",\"USDT\"]],\"rawInfo\":null,\"info\":{\"dot\":{\"id\":\"412\",\"assetCode\":\"DOT\",\"assetName\":\"Polkadot\",\"unit\":\"\",\"commissionRate\":0,\"freeAuditWithdrawAmt\":0,\"freeUserChargeAmount\":5000000,\"createTime\":1595388589000,\"test\":0,\"gas\":0,\"isLegalMoney\":false,\"reconciliationAmount\":0,\"seqNum\":\"0\",\"chineseName\":\"Polkadot\",\"cnLink\":\"\",\"enLink\":\"\",\"logoUrl\":\"https://bin.bnbstatic.com/image/admin_mgs_image_upload/20211220/2135e715-a02f-4c4d-8390-a678fac012f0.png\",\"fullLogoUrl\":\"https://bin.bnbstatic.com/image/admin_mgs_image_upload/20211220/2135e715-a02f-4c4d-8390-a678fac012f0.png\",\"supportMarket\":null,\"feeReferenceAsset\":\"\",\"feeRate\":null,\"feeDigit\":8,\"assetDigit\":8,\"trading\":true,\"tags\":[\"pos\",\"mining-zone\",\"Polkadot\",\"Layer1_Layer2\"],\"plateType\":\"MAINWEB\",\"etf\":false,\"isLedgerOnly\":false,\"delisted\":false}},\"tradeType\":\"SPOT\",\"page\":\"trade\",\"isFullscreen\":false,\"depthScale\":0,\"headerConfigs\":{},\"marketTags\":{\"list\":[\"innovation-zone\",\"defi\",\"BSC\",\"pos\",\"pow\",\"storage-zone\",\"NFT\",\"Polkadot\",\"Gaming\",\"Metaverse\",\"Layer1_Layer2\",\"fan_token\",\"Launchpad\",\"Launchpool\"],\"riskys\":[\"innovation-zone\"],\"listMap\":{\"innovation-zone\":\"Innovation\",\"defi\":\"DeFi\",\"BSC\":\"BSC\",\"pos\":\"POS\",\"pow\":\"POW\",\"storage-zone\":\"Storage\",\"NFT\":\"NFT\",\"Polkadot\":\"Polkadot\",\"Gaming\":\"Gaming\",\"Metaverse\":\"Metaverse\",\"Layer1_Layer2\":\"Layer 1 / Layer 2\",\"fan_token\":\"Fan Token\",\"Launchpad\":\"Launchpad\",\"Launchpool\":\"Launchpool\"}},\"bannedProducts\":[],\"ifShowBannedWarning\":false,\"currency\":[{\"pair\":\"EUR_USD\",\"rate\":1,\"symbol\":\"€\",\"fullName\":\"Euro\",\"imageUrl\":\"https://public.bnbstatic.com/image/currencies/EUR.png\"},{\"pair\":\"INR_USD\",\"rate\":80.08,\"symbol\":\"₹\",\"fullName\":null,\"imageUrl\":\"https://public.bnbstatic.com/image/currencies/INR.png\"},{\"pair\":\"BRL_USD\",\"rate\":5.45,\"symbol\":\"R$\",\"fullName\":null,\"imageUrl\":\"https://public.bnbstatic.com/image/currencies/BRL.png\"},{\"pair\":\"PEN_USD\",\"rate\":3.95,\"symbol\":\"S/.\",\"fullName\":null,\"imageUrl\":\"https://public.bnbstatic.com/image/currencies/PEN.png\"},{\"pair\":\"CHF_USD\",\"rate\":0.9863,\"symbol\":\"CHF\",\"fullName\":null,\"imageUrl\":\"https://public.bnbstatic.com/image/currencies/CHF.png\"},{\"pair\":\"KES_USD\",\"rate\":118.2,\"symbol\":\"KSh\",\"fullName\":null,\"imageUrl\":\"https://public.bnbstatic.com/image/currencies/KES.png\"},{\"pair\":\"USD_KZT\",\"rate\":0.002084,\"symbol\":\"$\",\"fullName\":null,\"imageUrl\":\"https://public.bnbstatic.com/image/currencies/USD.png\"},{\"pair\":\"NGN_USD\",\"rate\":462.64,\"symbol\":\"₦\",\"fullName\":null,\"imageUrl\":\"https://public.bnbstatic.com/image/currencies/NGN.png\"},{\"pair\":\"CNY_USD\",\"rate\":6.76,\"symbol\":\"¥\",\"fullName\":null,\"imageUrl\":\"https://public.bnbstatic.com/image/currencies/CNY.png\"},{\"pair\":\"PHP_USD\",\"rate\":56.48,\"symbol\":\"₱\",\"fullName\":null,\"imageUrl\":\"https://public.bnbstatic.com/image/currencies/PHP.png\"},{\"pair\":\"UAH_USD\",\"rate\":29.41,\"symbol\":\"₴\",\"fullName\":null,\"imageUrl\":\"https://public.bnbstatic.com/image/currencies/UAH.png\"},{\"pair\":\"USD_UAH\",\"rate\":0.034,\"symbol\":\"$\",\"fullName\":null,\"imageUrl\":\"https://public.bnbstatic.com/image/currencies/USD.png\"},{\"pair\":\"RUB_USD\",\"rate\":58.69,\"symbol\":\"₽\",\"fullName\":null,\"imageUrl\":\"https://public.bnbstatic.com/image/currencies/RUB.png\"},{\"pair\":\"USD_NGN\",\"rate\":0.002162,\"symbol\":\"$\",\"fullName\":null,\"imageUrl\":\"https://public.bnbstatic.com/image/currencies/USD.png\"},{\"pair\":\"TWD_USD\",\"rate\":29.99,\"symbol\":\"NT$\",\"fullName\":null,\"imageUrl\":\"https://public.bnbstatic.com/image/currencies/TWD.png\"},{\"pair\":\"BGN_USD\",\"rate\":1.96,\"symbol\":\"лв\",\"fullName\":null,\"imageUrl\":\"https://public.bnbstatic.com/image/currencies/BGN.png\"},{\"pair\":\"SAR_USD\",\"rate\":3.75,\"symbol\":\"ر.س\",\"fullName\":null,\"imageUrl\":\"https://public.bnbstatic.com/image/currencies/SAR.png\"},{\"pair\":\"COP_USD\",\"rate\":4540.76,\"symbol\":\"COL$\",\"fullName\":null,\"imageUrl\":\"https://public.bnbstatic.com/image/currencies/COP.png\"},{\"pair\":\"UGX_USD\",\"rate\":3763.81,\"symbol\":\"USh\",\"fullName\":null,\"imageUrl\":\"https://public.bnbstatic.com/image/currencies/UGX.png\"},{\"pair\":\"USD_EUR\",\"rate\":0.9985,\"symbol\":\"$\",\"fullName\":null,\"imageUrl\":\"https://public.bnbstatic.com/image/currencies/USD.png\"},{\"pair\":\"ZAR_USD\",\"rate\":17.23,\"symbol\":\"R\",\"fullName\":null,\"imageUrl\":\"https://public.bnbstatic.com/image/currencies/ZAR.png\"},{\"pair\":\"DKK_USD\",\"rate\":7.45,\"symbol\":\"KR\",\"fullName\":null,\"imageUrl\":\"https://public.bnbstatic.com/image/currencies/DKK.png\"},{\"pair\":\"NZD_USD\",\"rate\":1.64,\"symbol\":\"NZ$\",\"fullName\":null,\"imageUrl\":\"https://public.bnbstatic.com/image/currencies/NZD.png\"},{\"pair\":\"KZT_USD\",\"rate\":479.74,\"symbol\":\"₸\",\"fullName\":null,\"imageUrl\":\"https://public.bnbstatic.com/image/currencies/KZT.png\"},{\"pair\":\"MAD_USD\",\"rate\":10.41,\"symbol\":\"م.د.\",\"fullName\":null,\"imageUrl\":\"https://public.bnbstatic.com/image/currencies/MAD.png\"},{\"pair\":\"THB_USD\",\"rate\":36.67,\"symbol\":\"฿\",\"fullName\":null,\"imageUrl\":\"https://public.bnbstatic.com/image/currencies/THB.png\"},{\"pair\":\"PKR_USD\",\"rate\":209.59,\"symbol\":\"₨\",\"fullName\":null,\"imageUrl\":\"https://public.bnbstatic.com/image/currencies/PKR.png\"},{\"pair\":\"BOB_USD\",\"rate\":6.88,\"symbol\":\"$b\",\"fullName\":null,\"imageUrl\":\"https://public.bnbstatic.com/image/currencies/BOB.png\"},{\"pair\":\"TRY_USD\",\"rate\":17.49,\"symbol\":\"₺\",\"fullName\":null,\"imageUrl\":\"https://public.bnbstatic.com/image/currencies/TRY.png\"},{\"pair\":\"ARS_USD\",\"rate\":128.02,\"symbol\":\"ARS$\",\"fullName\":null,\"imageUrl\":\"https://public.bnbstatic.com/image/currencies/ARS.png\"},{\"pair\":\"BDT_USD\",\"rate\":93.82,\"symbol\":\"৳\",\"fullName\":null,\"imageUrl\":\"https://public.bnbstatic.com/image/currencies/BDT.png\"},{\"pair\":\"MXN_USD\",\"rate\":20.96,\"symbol\":\"Mex$\",\"fullName\":null,\"imageUrl\":\"https://public.bnbstatic.com/image/currencies/MXN.png\"},{\"pair\":\"SEK_USD\",\"rate\":10.63,\"symbol\":\"kr\",\"fullName\":null,\"imageUrl\":\"https://public.bnbstatic.com/image/currencies/SEK.png\"},{\"pair\":\"HUF_USD\",\"rate\":408.84,\"symbol\":\"Ft\",\"fullName\":null,\"imageUrl\":\"https://public.bnbstatic.com/image/currencies/HUF.png\"},{\"pair\":\"HRK_USD\",\"rate\":7.52,\"symbol\":\"kn\",\"fullName\":null,\"imageUrl\":\"https://public.bnbstatic.com/image/currencies/HRK.png\"},{\"pair\":\"JPY_USD\",\"rate\":139.29,\"symbol\":\"¥\",\"fullName\":null,\"imageUrl\":\"https://public.bnbstatic.com/image/currencies/JPY.png\"},{\"pair\":\"AED_USD\",\"rate\":3.67,\"symbol\":\"د.إ\",\"fullName\":\"UAE dirham\",\"imageUrl\":\"https://public.bnbstatic.com/image/currencies/AED.png\"},{\"pair\":\"CAD_USD\",\"rate\":1.32,\"symbol\":\"C$\",\"fullName\":null,\"imageUrl\":\"https://public.bnbstatic.com/image/currencies/CAD.png\"},{\"pair\":\"AUD_USD\",\"rate\":1.49,\"symbol\":\"A$\",\"fullName\":null,\"imageUrl\":\"https://public.bnbstatic.com/image/currencies/AUD.png\"},{\"pair\":\"EGP_USD\",\"rate\":18.87,\"symbol\":\"£\",\"fullName\":null,\"imageUrl\":\"https://public.bnbstatic.com/image/currencies/EGP.png\"},{\"pair\":\"MNT_USD\",\"rate\":3143.7,\"symbol\":\"₮\",\"fullName\":null,\"imageUrl\":\"https://public.bnbstatic.com/image/currencies/MNT.png\"},{\"pair\":\"RON_USD\",\"rate\":4.95,\"symbol\":\"lei\",\"fullName\":null,\"imageUrl\":\"https://public.bnbstatic.com/image/currencies/RON.png\"},{\"pair\":\"IDR_USD\",\"rate\":15064.3,\"symbol\":\"Rp\",\"fullName\":null,\"imageUrl\":\"https://public.bnbstatic.com/image/currencies/IDR.png\"},{\"pair\":\"PLN_USD\",\"rate\":4.82,\"symbol\":\"zł\",\"fullName\":null,\"imageUrl\":\"https://public.bnbstatic.com/image/currencies/PLN.png\"},{\"pair\":\"HKD_USD\",\"rate\":7.85,\"symbol\":\"HKD\",\"fullName\":null,\"imageUrl\":\"https://public.bnbstatic.com/image/currencies/HKD.png\"},{\"pair\":\"VND_USD\",\"rate\":23350.28,\"symbol\":\"₫\",\"fullName\":null,\"imageUrl\":\"https://public.bnbstatic.com/image/currencies/VND.png\"},{\"pair\":\"GBP_USD\",\"rate\":0.849,\"symbol\":\"£\",\"fullName\":null,\"imageUrl\":\"https://public.bnbstatic.com/image/currencies/GBP.png\"},{\"pair\":\"CZK_USD\",\"rate\":24.46,\"symbol\":\"Kč\",\"fullName\":null,\"imageUrl\":\"https://public.bnbstatic.com/image/currencies/CZK.png\"},{\"pair\":\"VES_USD\",\"rate\":5.65,\"symbol\":\"Bs\",\"fullName\":null,\"imageUrl\":\"https://public.bnbstatic.com/image/currencies/VES.png\"}]},\"products\":{\"loading\":false,\"products\":[],\"productMap\":{\"DOTUSDT\":{\"symbolDisplay\":\"DOT/USDT\",\"low\":\"6.18\",\"close\":\"6.38\",\"high\":\"6.52\",\"open\":\"6.31\",\"volume\":\"5084965.86\",\"quoteVolume\":\"32431257.97\",\"symbol\":\"DOTUSDT\",\"tickSize\":\"0.01\",\"minQty\":\"0.01000000\",\"quoteAsset\":\"USDT\",\"baseAsset\":\"DOT\",\"quoteName\":\"TetherUS\",\"baseAssetName\":\"Polkadot\",\"parentMarket\":\"USDT\",\"parentMarketName\":\"USDT\",\"circulatingSupply\":987579315,\"tags\":[\"pos\",\"mining-zone\",\"Polkadot\",\"Layer1_Layer2\"],\"tradingStatus\":\"TRADING\",\"gridTrade\":true}},\"filterProductMap\":{},\"typesProductMap\":{\"perpetual\":[],\"delivery\":[]},\"currentProduct\":{},\"updateTime\":1657775460785,\"stableTicker\":{},\"isError\":false,\"marginSymbol\":{\"rawSymbols\":[],\"symbolsMap\":{}}},\"setting\":{\"theme\":\"dark\",\"color\":\"fresh\",\"spotDefaultSetFlag\":false,\"layout\":\"\",\"ssrType\":\"desktop\",\"spotLayoutDetail\":{},\"isElectronMainWindow\":false,\"isDraftState\":false,\"defaultOpenWidgetsStatus\":false,\"isRedUpGreenDown\":false},\"ticker\":{\"lastPrice\":0,\"showPrice\":0,\"tk\":0,\"tradeList\":[],\"initLoading\":true},\"tradeNews\":{\"news\":[{\"id\":8536,\"url\":\"/en/support/announcement/05491d9d4a5f4304aee69e9878d4174f\",\"title\":\"Deposit HUF with Card to Earn Up to 20 BUSD\",\"time\":1657798809648},{\"id\":8540,\"url\":\"/en/support/announcement/e77da81577ce42c686e1942476fb5fc3\",\"title\":\"Binance Adds BURGER/ETH, PEOPLE/ETH \\\\u0026 UNFI/ETH Trading Pairs\",\"time\":1657779305217},{\"id\":8539,\"url\":\"/en/support/announcement/ccda5a49668f41c79defd2b0498ad95c\",\"title\":\"SKL Staking Special: Enjoy Up to 59.69% Rewards Rates and Share 650,000 SKL!\",\"time\":1657776019080},{\"id\":8538,\"url\":\"/en/support/announcement/1cbb077259d54387937594eef3336416\",\"title\":\"Get Up to 8 BUSD by Completing Missions with Your Binance Card!\",\"time\":1657756800000},{\"id\":8537,\"url\":\"/en/support/announcement/780991cc032d4c878d87396c0f57de0f\",\"title\":\"The 20th Quarterly BNB Burn Completed via BNB Auto-Burn\",\"time\":1657714432830},{\"id\":8535,\"url\":\"/en/support/announcement/13c233e4993741918601ab0948cb8657\",\"title\":\"ELF Staking Special: Enjoy Up to 59.97% Rewards Rates and Share 45,000 ELF!\",\"time\":1657703076269},{\"id\":8534,\"url\":\"/en/support/announcement/8e94cfc18c754ae2b8a509e3aef0815a\",\"title\":\"Binance Convert Adds WNXM\",\"time\":1657699287148},{\"id\":8533,\"url\":\"/en/support/announcement/a1ea0ec7e71241539d6c5ea123b60b11\",\"title\":\"Earn Wednesday: New Rewarding Offers Available Now! (2022-07-13)\",\"time\":1657695903763},{\"id\":8532,\"url\":\"/en/support/announcement/38c31026a58d465086b015a89b06c19b\",\"title\":\"Binance Has Completed the RAMP (RAMP) Token Swap, Redenomination \\\\u0026 Rebranding Plan to LeverFi (LEVER)\",\"time\":1657688704737},{\"id\":8531,\"url\":\"/en/support/announcement/b17c7ed8a6a64e5f9c2a3ad9821772b1\",\"title\":\"Binance NFT Launches “Alan Walker Origins” NFT Collection: Share the Revenue from the Music Video Streaming on YouTube!\",\"time\":1657684826768}]},\"userCenter\":{\"userInfo\":{},\"userPreferredCurrency\":{},\"fiatCurrencyInfo\":[],\"fiatCurrency\":{\"USD\":{\"pair\":\"USD_USD\",\"rate\":1,\"symbol\":\"$\"}},\"loginStatus\":{\"isLoading\":true},\"userSetting\":{}},\"userProfile\":{\"isHideSmallBalance\":true,\"isOrderHideOtherPairs\":false,\"isOrderHistoryHideOtherPairs\":false,\"isTradeHideOtherPairs\":false,\"positionsMark\":\"USDT\",\"tradeType\":\"SPOT\",\"userPreferredCurrency\":{\"configType\":\"nativeCurrency\",\"userPreferredCurrency\":\"USD_USD\"},\"finishMarginTransfer\":\"\",\"finishMarginBorrow\":\"\",\"finishMarginOrder\":\"\",\"skipMarginGuide\":\"\",\"finishMarginBorrowOrder\":\"\"},\"chartType\":{\"spotType\":\"two\",\"spotSymbol\":{\"two\":[],\"three\":[],\"four\":[],\"six\":[]},\"currentProductList\":[],\"currentSymbolType\":\"\"},\"margin\":{\"userAssets\":{},\"marginAccount\":{\"marginLevel\":\"3.00\",\"totalAssetOfBtc\":\"0\",\"totalNetAssetOfBtc\":\"0\",\"totalLiabilityOfBtc\":\"0\",\"coolingOff\":null,\"canManualLiquidation\":false,\"marginRatio\":\"\",\"isUniAccount\":false},\"interestRateMap\":{},\"marginAllAssets\":[],\"marginCoeff\":{},\"isolatedCoeff\":{},\"isolatedUserAssets\":{},\"isolatedAccount\":{},\"isolatedSymbol\":{},\"isolatedInterestRateMap\":{},\"marginUniAccount\":{}}}},\"ssr\":true,\"runtimeConfig\":{\"WS_HOST\":\"wss://stream.binance.com\",\"API_HOST\":\"https://www.binance.com\",\"SITE_HOST\":\"https://www.binance.com\",\"RESEARCH_HOST\":\"https://research.binance.com\",\"STATIC_HOST\":\"https://bin.bnbstatic.com\",\"ENABLE_MARGIN\":\"true\",\"INBOX_STREAM_HOST\":\"wss://bstream.binance.com:9443\",\"MARGIN_STREAM_HOST\":\"wss://margin-stream.binance.com:443\",\"STATIC_HOST_PUBLIC\":\"https://bin.bnbstatic.com\",\"ACCOUNTS_HOST_PUBLIC\":\"https://accounts.binance.com\",\"SENSORS_WEB_HOST\":\"https://s.datasconsole.com/?project=binance\",\"SENSORS_SERVER_HOST\":\"https://api.saasexch.com/bapi/fe/usd/sa?project=binance\",\"CHAT_WS_HOST\":\"wss://nbstream.binance.com\",\"LOGAN_HOST\":\"https://logan-log.binance.gg\",\"TRADINGVIEW_STATIC_PATH\":\"static/chart/tradingview/en\",\"ACCELERATE_DEFAULT_DOMAIN\":\"api.yshyqxx.com\",\"ACCELERATE_ENBLED_SITES\":\"www.binancezh.com,www.binancezh.net,accounts.binancezh.com,accounts.binancezh.net,www.binancezh.pro,accounts.binancezh.pro,www.binancezh.cc,accounts.binancezh.cc,www.binancezh.co,accounts.binancezh.co,www.binancezh.io,accounts.binancezh.io,www.binancezh.be,accounts.binancezh.be,www.binancezh.ch,accounts.binancezh.ch,www.binancezh.sh,accounts.binancezh.sh,www.binancezh.in,accounts.binancezh.in,www.binancezh.ac,accounts.binancezh.ac,www.binancezh.top,accounts.binancezh.top,www.bnbzh.net,accounts.bnbzh.net,www.bnbzh.cc,accounts.bnbzh.cc,www.bnbzh.co,accounts.bnbzh.co,www.binancezh.jp,accounts.binancezh.jp,www.binancezh.cz,accounts.binancezh.cz,www.binancezh.biz,accounts.binancezh.biz,www.bnbzh.ac,accounts.bnbzh.ac,www.bnbzh.cz,accounts.bnbzh.cz,www.bnbzh.in,accounts.bnbzh.in\",\"ACCELERATE_AVAILABLE_DOMAIN\":\"api.yshyqxx.com,api.hanqiweb.cloud\",\"REDIS_WRITE\":\"redis.fe-master.binance.internal:6379\",\"REDIS_READ\":\"redis.fe-master.binance.internal:6379\",\"OTC_HOST\":\"https://otc.binance.com\",\"OTC_HOST_TEMPLATE\":\"https://otc.{{rootDomain}}\",\"ACCOUNTS_HOST_PUBLIC_TEMPLATE\":\"https://accounts.{{rootDomain}}\",\"API_HOST_TEMPLATE\":\"https://www.{{rootDomain}}\",\"API_HOST_PUBLIC_TEMPLATE\":\"https://www.{{rootDomain}}\",\"INBOX_STREAM_HOST_TEMPLATE\":\"wss://bstream.{{rootDomain}}:9443\",\"MARGIN_STREAM_HOST_TEMPLATE\":\"wss://margin-stream.{{rootDomain}}:443\",\"SITE_HOST_TEMPLATE\":\"https://www.{{rootDomain}}\",\"TRADE_STREAM_HOST_TEMPLATE\":\"wss://stream.{{rootDomain}}\",\"WS_HOST_TEMPLATE\":\"wss://stream.{{rootDomain}}\",\"RESEARCH_HOST_TEMPLATE\":\"https://research.{{rootDomain}}\",\"CHAT_WS_HOST_TEMPLATE\":\"wss://nbstream.{{rootDomain}}\",\"MARKET_STREAM_HOST_TEMPLATE\":\"wss://nbstream.{{rootDomain}}\",\"WS_HTTP_SDK_RESTFUL_RATE\":\"0.5\",\"LVT_STREAM_HOST_TEMPLATE\":\"wss://nbstream.{{rootDomain}}\",\"I18N_BASE_PRIVATE\":\"http://bin.bnbstatic.com.s3.ap-northeast-1.amazonaws.com/api/i18n/-/web/cms\",\"I18N_BASE_PUBLIC\":\"https://bin.bnbstatic.com/api/i18n/-/web/cms\",\"REALTIME_REPORT_TRACK\":\"https://trace.binance.gg/000000/isamfy\",\"DEPLOYMENT_ENV\":\"prod\",\"SENTRY_ENV\":\"prod\",\"DELIVERY_WS_HOST_TEMPLATE\":\"wss://sdstream.{{rootDomain}}\",\"FUTURES_WS_HOST_GZIP_TEMPLATE\":\"wss://sfstream.{{rootDomain}}\",\"BINANCE_CONNECT_HOST\":\"https://www.binancecnt.com\",\"COMMIT_HEAD\":\"8cab88d30eeaa244c4033243631de04650d6bed3\",\"ASSETS_HOST\":\"https://bin.bnbstatic.com\"}}</script><div id=\"__APP\"><style data-emotion-css=\"17b8mt6\">html{overflow:-moz-hidden-unscrollable;height:100%;-webkit-tap-highlight-color:transparent;background-color:#14151A;}body{margin:0;height:100%;width:100vw;overflow-x:hidden !important;overflow-y:auto;-ms-overflow-style:none;-webkit-overflow-scrolling:touch;-webkit-tap-highlight-color:transparent;background-color:#14151A;}h1{margin:0;padding:0;}#__next{max-width:100vw;overflow-x:hidden;}input{font-family:inherit;}input::-webkit-input-placeholder{font-style:normal !important;}input::-moz-placeholder{font-style:normal !important;}input:-ms-input-placeholder{font-style:normal !important;}input::placeholder{font-style:normal !important;}.bn-input-status-disabled > input::-webkit-input-placeholder{color:#E6E8EA;}.bn-input-status-disabled > input::-moz-placeholder{color:#E6E8EA;}.bn-input-status-disabled > input:-ms-input-placeholder{color:#E6E8EA;}.bn-input-status-disabled > input::placeholder{color:#E6E8EA;}.list-grid > div > div > div{margin-top:0;margin-bottom:0;padding-left:0;padding-right:0;height:100%;}.list-grid > div > div > div > div{-webkit-flex:1;-ms-flex:1;flex:1;}@media (max-width:760px){.chatWidget{display:none !important;}}body:not(.scrollBar)::-webkit-scrollbar{display:none;}.scrollBar{padding-right:0px;}.scrollBar:hover{padding-right:0px;}.scrollBar::-webkit-scrollbar{width:0px;height:0px;}.scrollBar:hover::-webkit-scrollbar,::-webkit-scrollbar{width:5px;height:6px;}body.scrollBar::-webkit-scrollbar{height:6px;width:8px !important;}input[type=\\'number\\']::-webkit-outer-spin-button,input[type=\\'number\\']::-webkit-inner-spin-button{-webkit-appearance:none;margin:0;}.react-grid-layout{position:relative;-webkit-transition:height 200ms ease;transition:height 200ms ease;}.react-grid-item{-webkit-transition:all 200ms ease;transition:all 200ms ease;-webkit-transition-property:left,top;transition-property:left,top;}.react-grid-item.cssTransforms{-webkit-transition-property:-webkit-transform;-webkit-transition-property:transform;transition-property:transform;}.react-grid-item.resizing{z-index:1;will-change:width,height;}.react-grid-item.react-draggable-dragging{-webkit-transition:none;transition:none;z-index:3;will-change:transform;}.react-grid-item.dropping{visibility:hidden;}.react-grid-item.react-grid-placeholder{background:red;opacity:0.2;-webkit-transition-duration:100ms;transition-duration:100ms;z-index:2;-webkit-user-select:none;-moz-user-select:none;-ms-user-select:none;-o-user-select:none;-webkit-user-select:none;-moz-user-select:none;-ms-user-select:none;user-select:none;box-shadow:0px 0px 100px #000;pointer-events:none;}.react-grid-item > .react-resizable-handle{position:absolute;width:20px;height:20px;bottom:0;right:0;cursor:se-resize;}.react-grid-item > .react-resizable-handle::after{content:\\'\\';position:absolute;right:3px;bottom:3px;width:5px;height:5px;border-right:2px solid #3D4653;border-bottom:2px solid #3D4653;}.react-resizable-hide > .react-resizable-handle{display:none;}.react-resizable{position:relative;}.draggableHandle{cursor:-webkit-grab;cursor:-moz-grab;cursor:grab;}.react-draggable-dragging .draggableHandle{cursor:-webkit-grabbing;cursor:-moz-grabbing;cursor:grabbing;}::-webkit-scrollbar-track{background:transparent;}::-webkit-scrollbar-thumb{background:#5E6673;border-radius:3px;height:90px;}.rc-calendar-picker{position:absolute;right:0 !important;z-index:1000;}.react-resizable-handle{visibility:hidden;}.pro-layout-close-button{visibility:hidden;}.react-grid-item:hover .react-resizable-handle,.react-grid-item:hover .pro-layout-close-button,.react-resizable-handle:hover{visibility:visible;}.react-draggable:hover .pro-layout-close-button{visibility:visible;}.highcharts-tooltip span{background-color:white;border:1 px solid green;opacity:1;z-index:9999 !important;}</style><style data-emotion-css=\"1w88b59\">.css-1w88b59{box-sizing:border-box;margin:0;min-width:0;width:100vw;height:100vh;position:fixed;z-index:10000;background-color:#14151A;}</style><div class=\"css-1w88b59\"><div style=\"display:flex;flex:1 1 1;align-items:center;justify-content:center;height:100%\"><style data-emotion-css=\"4tar7t\">.css-4tar7t{box-sizing:border-box;margin:0;min-width:0;display:-webkit-box;display:-webkit-flex;display:-ms-flexbox;display:flex;width:30px;height:30px;-webkit-align-items:center;-webkit-box-align:center;-ms-flex-align:center;align-items:center;-webkit-box-pack:justify;-webkit-justify-content:space-between;-ms-flex-pack:justify;justify-content:space-between;}</style><div class=\"css-4tar7t\"><style data-emotion-css=\"2bc2yz animation-hqgv56\">.css-2bc2yz{box-sizing:border-box;margin:0;min-width:0;background-color:#F0B90B;height:100%;width:3px;-webkit-animation:animation-hqgv56 1.2s infinite ease-in-out;animation:animation-hqgv56 1.2s infinite ease-in-out;-webkit-animation-delay:-0.3s;animation-delay:-0.3s;}@-webkit-keyframes animation-hqgv56{0%,40%,100%{-webkit-transform:scaleY(0.4);-ms-transform:scaleY(0.4);transform:scaleY(0.4);}20%{-webkit-transform:scaleY(1.0);-ms-transform:scaleY(1.0);transform:scaleY(1.0);}}@keyframes animation-hqgv56{0%,40%,100%{-webkit-transform:scaleY(0.4);-ms-transform:scaleY(0.4);transform:scaleY(0.4);}20%{-webkit-transform:scaleY(1.0);-ms-transform:scaleY(1.0);transform:scaleY(1.0);}}</style><div class=\"css-2bc2yz\"></div><style data-emotion-css=\"i6pav4 animation-hqgv56\">.css-i6pav4{box-sizing:border-box;margin:0;min-width:0;background-color:#F0B90B;height:100%;width:3px;-webkit-animation:animation-hqgv56 1.2s infinite ease-in-out;animation:animation-hqgv56 1.2s infinite ease-in-out;-webkit-animation-delay:-0.2s;animation-delay:-0.2s;}@-webkit-keyframes animation-hqgv56{0%,40%,100%{-webkit-transform:scaleY(0.4);-ms-transform:scaleY(0.4);transform:scaleY(0.4);}20%{-webkit-transform:scaleY(1.0);-ms-transform:scaleY(1.0);transform:scaleY(1.0);}}@keyframes animation-hqgv56{0%,40%,100%{-webkit-transform:scaleY(0.4);-ms-transform:scaleY(0.4);transform:scaleY(0.4);}20%{-webkit-transform:scaleY(1.0);-ms-transform:scaleY(1.0);transform:scaleY(1.0);}}</style><div class=\"css-i6pav4\"></div><style data-emotion-css=\"o1uf9l animation-hqgv56\">.css-o1uf9l{box-sizing:border-box;margin:0;min-width:0;background-color:#F0B90B;height:100%;width:3px;-webkit-animation:animation-hqgv56 1.2s infinite ease-in-out;animation:animation-hqgv56 1.2s infinite ease-in-out;-webkit-animation-delay:-0.1s;animation-delay:-0.1s;}@-webkit-keyframes animation-hqgv56{0%,40%,100%{-webkit-transform:scaleY(0.4);-ms-transform:scaleY(0.4);transform:scaleY(0.4);}20%{-webkit-transform:scaleY(1.0);-ms-transform:scaleY(1.0);transform:scaleY(1.0);}}@keyframes animation-hqgv56{0%,40%,100%{-webkit-transform:scaleY(0.4);-ms-transform:scaleY(0.4);transform:scaleY(0.4);}20%{-webkit-transform:scaleY(1.0);-ms-transform:scaleY(1.0);transform:scaleY(1.0);}}</style><div class=\"css-o1uf9l\"></div><style data-emotion-css=\"14jhrrk animation-hqgv56\">.css-14jhrrk{box-sizing:border-box;margin:0;min-width:0;background-color:#F0B90B;height:100%;width:3px;-webkit-animation:animation-hqgv56 1.2s infinite ease-in-out;animation:animation-hqgv56 1.2s infinite ease-in-out;-webkit-animation-delay:-0s;animation-delay:-0s;}@-webkit-keyframes animation-hqgv56{0%,40%,100%{-webkit-transform:scaleY(0.4);-ms-transform:scaleY(0.4);transform:scaleY(0.4);}20%{-webkit-transform:scaleY(1.0);-ms-transform:scaleY(1.0);transform:scaleY(1.0);}}@keyframes animation-hqgv56{0%,40%,100%{-webkit-transform:scaleY(0.4);-ms-transform:scaleY(0.4);transform:scaleY(0.4);}20%{-webkit-transform:scaleY(1.0);-ms-transform:scaleY(1.0);transform:scaleY(1.0);}}</style><div class=\"css-14jhrrk\"></div></div></div></div><style data-emotion-css=\"vurnku\">.css-vurnku{box-sizing:border-box;margin:0;min-width:0;}</style><div class=\"css-vurnku\"><audio><source src=\"\"/></audio></div></div><script src=\"https://bin.bnbstatic.com/static/runtime/react/react.production.16.14.0.js\" data-ot-ignore></script><script src=\"https://bin.bnbstatic.com/static/runtime/react-dom/react-dom.production.16.14.0.js\" data-ot-ignore></script><noscript><iframe src=\"https://www.googletagmanager.com/ns.html?id=GTM-M86QHGF\" height=\"0\" width=\"0\" style=\"display:none;visibility:hidden\"></iframe></noscript><script src=\"https://bin.bnbstatic.com/static/runtime/redux.4.1.0.min.js\" data-ot-ignore></script><script src=\"https://bin.bnbstatic.com/static/runtime/react-redux.7.2.1.min.js\" data-ot-ignore></script>\\n  <script>__shuvi_ssr_public_path__ = \"https://bin.bnbstatic.com/\"</script><script src=\"https://bin.bnbstatic.com/static/runtime/polyfill-359d69d7d52470c300be.js\" data-ot-ignore></script><script src=\"https://bin.bnbstatic.com/static/runtime/webpack-a17042bf7072a35c0f0f.js\" data-ot-ignore></script><script src=\"https://bin.bnbstatic.com/static/chunks/framework.a3f09d75.js\" data-ot-ignore></script><script src=\"https://bin.bnbstatic.com/static/chunks/common2.2b08737b.js\" data-ot-ignore></script><script src=\"https://bin.bnbstatic.com/static/chunks/a29ae703.3c924f1d.js\" data-ot-ignore></script><script src=\"https://bin.bnbstatic.com/static/chunks/2edb282b.3d5a5920.js\" data-ot-ignore></script><script src=\"https://bin.bnbstatic.com/static/runtime/sentry-1e27c2638b1a1dcf8adf.js\" data-ot-ignore></script><script>if (typeof Sentry !== \\'undefined\\') {\\n                window.addEventListener(\\'unhandledrejection\\', event => {\\n                  console.warn(`UNHANDLED PROMISE REJECTION: ${event.reason}`);\\n                  Sentry.captureMessage(event.reason);\\n                });\\n                Sentry.init({\\n                  dsn: \\'https://98cacb9d46384ac4abd400761cf7002e@o529943.ingest.sentry.io/5684836\\',\\n                  release: \\'8cab88d30eeaa244c4033243631de04650d6bed3\\',\\n                  attachStacktrace: true,\\n                  environment: \\'prod\\',\\n                  integrations: [new Integrations.BrowserTracing()],\\n                  tracesSampleRate: 0.001,\\n                  denyUrls: [/^chrome-extension:\\\\/\\\\//i],\\n                  beforeSend: (event, hint) => {\\n                    var sampleRate = 0.01\\n                    // if error level is fatal, we don\\'t want to sample it\\n                    if(event && event.level && event.level === \\'fatal\\') {\\n                      sampleRate = 1\\n                    } \\n                    if(hint && hint.originalException) {\\n                      var error = hint.originalException;\\n                      if(error && error.message === \\'ResizeObserver loop limit exceeded\\'){\\n                        return null;\\n                      }\\n                      // add more info for some errors to make it more useful\\n                      if(error && error.message && error.message.includes(\\'The quota has been exceeded\\')){\\n                        try {                          \\n                          var _lsTotal = 0, _xLen, _x;\\n                          for (_x in localStorage) {\\n                            if (!localStorage.hasOwnProperty(_x)) {\\n                                continue;\\n                            }\\n                            _xLen = ((localStorage[_x].length + _x.length) * 2);\\n                            _lsTotal += _xLen;\\n                            if((_xLen / 1024).toFixed(2) >1) {\\n                              event.extra[_x.substr(0, 50)] = (_xLen / 1024).toFixed(2)\\n                            }\\n                          }\\n                          event.extra[\\'localStorageTotal\\'] = (_lsTotal / 1024).toFixed(2)\\n                          event.tags[\\'localStorage\\'] = \\'1\\';\\n                        } catch (e) {\\n                          event.tags[\\'localStorage\\'] = \\'0\\';\\n                        }\\n                      }\\n                      // add more info for some errors to make it more useful\\n                      if(error && error.message === \\'Cannot redefine property: src\\') {\\n                        try {\\n                          event.extra[\\'plugins\\'] = Array.from(navigator.plugins || []).map(item => item.name).join()\\n                          event.extra[\\'OtAutoBlockTimes\\'] = Array.from(document.querySelectorAll(\\'script\\')).filter(script => script.src.includes(\\'OtAutoBlock.js\\')).length\\n                          event.tags[\\'plugins\\'] = \\'1\\';\\n                        } catch (e) {\\n                          event.tags[\\'plugins\\'] = \\'0\\';\\n                        }\\n                      }\\n                    }\\n                    var random = Math.random()\\n                    if(random <= sampleRate){\\n                      return event;\\n                    } else {\\n                      return null;\\n                    }\\n                  }\\n                });\\n                Sentry.configureScope(scope => {\\n                  scope.setExtra(\\'isServer\\', false);\\n                  scope.setTag(\\'isServer\\', false);\\n                });\\n              }</script><script src=\"https://bin.bnbstatic.com/static/runtime/main-e3782a89c1715fe97c31.js\" data-ot-ignore></script>\\n</body>\\n</html>\\n'"
     },
     "execution_count": 80,
     "metadata": {},
     "output_type": "execute_result"
    }
   ],
   "source": [
    "import requests\n",
    "\n",
    "result = requests.get(\"https://www.binance.com/en/trade/DOT_USDT?theme=dark&type=spot\")\n",
    "result.text"
   ],
   "metadata": {
    "collapsed": false,
    "pycharm": {
     "name": "#%%\n"
    }
   }
  },
  {
   "cell_type": "code",
   "execution_count": 81,
   "outputs": [],
   "source": [
    "import re\n",
    "match = re.search(r'\\\"title\\\":\\\"(\\d+.\\d+)', result.text)"
   ],
   "metadata": {
    "collapsed": false,
    "pycharm": {
     "name": "#%%\n"
    }
   }
  },
  {
   "cell_type": "code",
   "execution_count": 82,
   "outputs": [
    {
     "data": {
      "text/plain": "'6.38'"
     },
     "execution_count": 82,
     "metadata": {},
     "output_type": "execute_result"
    }
   ],
   "source": [
    "value = match.group(1)\n",
    "value"
   ],
   "metadata": {
    "collapsed": false,
    "pycharm": {
     "name": "#%%\n"
    }
   }
  },
  {
   "cell_type": "markdown",
   "source": [
    "## регулярные выражения\n",
    "* язык поиска и манипуляций с подстроками в тексте\n",
    "* )(][}{\\^$.,|?*+\n",
    "* не знаем что ищем, но знаем на что похоже\n",
    "* ## ПОДДЕРЖИВАЕТСЯ ВСЕМИ ЯЗЫКАМИ ПРОГРАММИРОВАНИЯ И ТЕКСТОВЫМИ РЕДАКТОРАМИ\n"
   ],
   "metadata": {
    "collapsed": false,
    "pycharm": {
     "name": "#%% md\n"
    }
   }
  },
  {
   "cell_type": "markdown",
   "source": [
    "* буквы и цифры означают  себя\n",
    "* \\d - цифра от 0 до 9\n",
    "* \\D - все кроме цифры\n",
    "* . - любой символ кроме перевода строки \\n\n",
    "* (+) - 1 и более раз\n",
    "* (*) - 0 и более раз\n",
    "* ? - 0 или 1 раз\n",
    "* (*?) - минимальное число символов\n",
    "* (*.) - максимальное число символов\n",
    "* () - группы запоминаются регулярками, могут быть вложенными"
   ],
   "metadata": {
    "collapsed": false,
    "pycharm": {
     "name": "#%% md\n"
    }
   }
  },
  {
   "cell_type": "markdown",
   "source": [
    "abc = ???\n",
    "a\\db = ???\n",
    "a\\Db = ???\n",
    "a.b = ???\n",
    "\n",
    "a\\d?b = ???\n",
    "a.*b = ???\n",
    "a.?b = ???"
   ],
   "metadata": {
    "collapsed": false,
    "pycharm": {
     "name": "#%% md\n"
    }
   }
  },
  {
   "cell_type": "code",
   "execution_count": 71,
   "outputs": [],
   "source": [
    "import re\n",
    "\n",
    "html = \"DOT value today 6.35, min dot value was 6.00, max Dot value was 55.09\"\n",
    "match = re.search(r\"dot\\D+(\\d+.\\d+)\", html)\n",
    "rate = match.group(1)"
   ],
   "metadata": {
    "collapsed": false,
    "pycharm": {
     "name": "#%%\n"
    }
   }
  },
  {
   "cell_type": "code",
   "execution_count": 72,
   "outputs": [
    {
     "data": {
      "text/plain": "'6.35'"
     },
     "execution_count": 72,
     "metadata": {},
     "output_type": "execute_result"
    }
   ],
   "source": [
    "match = re.search(r\"dot\\D+(\\d+.\\d+)\", html, re.IGNORECASE)\n",
    "first_value = match.group(1)\n",
    "first_value"
   ],
   "metadata": {
    "collapsed": false,
    "pycharm": {
     "name": "#%%\n"
    }
   }
  },
  {
   "cell_type": "code",
   "execution_count": 73,
   "outputs": [
    {
     "data": {
      "text/plain": "'5.09'"
     },
     "execution_count": 73,
     "metadata": {},
     "output_type": "execute_result"
    }
   ],
   "source": [
    "match = re.search(r\"dot.*(\\d+.\\d+)\", html, re.IGNORECASE)\n",
    "last_value = match.group(1)\n",
    "last_value"
   ],
   "metadata": {
    "collapsed": false,
    "pycharm": {
     "name": "#%%\n"
    }
   }
  },
  {
   "cell_type": "markdown",
   "source": [
    "## почему так????\n",
    "не жадный режим"
   ],
   "metadata": {
    "collapsed": false,
    "pycharm": {
     "name": "#%% md\n"
    }
   }
  },
  {
   "cell_type": "code",
   "execution_count": 74,
   "outputs": [
    {
     "data": {
      "text/plain": "'6.35'"
     },
     "execution_count": 74,
     "metadata": {},
     "output_type": "execute_result"
    }
   ],
   "source": [
    "match = re.search(r\"dot.*?(\\d+.\\d+)\", html, re.IGNORECASE)\n",
    "last_value = match.group(1)\n",
    "last_value"
   ],
   "metadata": {
    "collapsed": false,
    "pycharm": {
     "name": "#%%\n"
    }
   }
  },
  {
   "cell_type": "code",
   "execution_count": 75,
   "outputs": [
    {
     "data": {
      "text/plain": "['6.35', '6.00', '55.09']"
     },
     "execution_count": 75,
     "metadata": {},
     "output_type": "execute_result"
    }
   ],
   "source": [
    "re.findall(r\"DOT\\D+(\\d+.\\d+)\", html, re.IGNORECASE)"
   ],
   "metadata": {
    "collapsed": false,
    "pycharm": {
     "name": "#%%\n"
    }
   }
  },
  {
   "cell_type": "code",
   "execution_count": 76,
   "outputs": [
    {
     "data": {
      "text/plain": "[('6.35', '6', '35'), ('6.00', '6', '00'), ('55.09', '55', '09')]"
     },
     "execution_count": 76,
     "metadata": {},
     "output_type": "execute_result"
    }
   ],
   "source": [
    "a = re.findall(r\"DOT\\D+((\\d+).(\\d+))\", html, re.IGNORECASE)\n",
    "a"
   ],
   "metadata": {
    "collapsed": false,
    "pycharm": {
     "name": "#%%\n"
    }
   }
  },
  {
   "cell_type": "code",
   "execution_count": 77,
   "outputs": [
    {
     "name": "stdout",
     "output_type": "stream",
     "text": [
      "<class 'tuple'>\n"
     ]
    }
   ],
   "source": [
    "print(type(a[0]))"
   ],
   "metadata": {
    "collapsed": false,
    "pycharm": {
     "name": "#%%\n"
    }
   }
  },
  {
   "cell_type": "markdown",
   "source": [
    "## символьные классы и квантификаторы\n",
    "# символьные классы\n",
    "* [abcd1234] ~ [a-d1-4] - один символ из множества\n",
    "* \\d = [0-9]\n",
    "* \\D = [^\\d]\n",
    "# квантификаторы\n",
    "* {1, 2} - символ повторяется от 1 до двух раз\n",
    "* {2, 2} = {2}\n",
    "* {,2} = {0,2}\n",
    "* {2,} = {2,inf}"
   ],
   "metadata": {
    "collapsed": false,
    "pycharm": {
     "name": "#%% md\n"
    }
   }
  },
  {
   "cell_type": "markdown",
   "source": [
    "## + и - regex\n",
    "* Во многих случаев компактно и просто, но не всегда\n",
    "* Есть во всех языках программированием\n",
    "* можно не только находить но и заменять\n",
    "* трудновоспринимаемы\n",
    "* не серебрянная пуля\n",
    "* при неправильном использовании долго выполняется\n",
    "* лучшая оптимизация поиска"
   ],
   "metadata": {
    "collapsed": false,
    "pycharm": {
     "name": "#%% md\n"
    }
   }
  },
  {
   "cell_type": "markdown",
   "source": [
    "## Специальные символьные классы\n",
    "* \\w - буква, цифра или _ = [a-zA_Z0-9_]\n",
    "* \\W - [^\\w]\n",
    "* \\s - проблел, табуляция ...\n",
    "* \\S - не пробел\n",
    "* \\b - граница между \\w и \\W (не является подстрокой, указатель на символ)\n",
    "* \\B - позиция внутри слова\n",
    "* ^ - начало строки\n",
    "* $ - конец строки"
   ],
   "metadata": {
    "collapsed": false,
    "pycharm": {
     "name": "#%% md\n"
    }
   }
  },
  {
   "cell_type": "code",
   "execution_count": null,
   "outputs": [],
   "source": [],
   "metadata": {
    "collapsed": false,
    "pycharm": {
     "name": "#%%\n"
    }
   }
  }
 ],
 "metadata": {
  "kernelspec": {
   "display_name": "Python 3",
   "language": "python",
   "name": "python3"
  },
  "language_info": {
   "codemirror_mode": {
    "name": "ipython",
    "version": 2
   },
   "file_extension": ".py",
   "mimetype": "text/x-python",
   "name": "python",
   "nbconvert_exporter": "python",
   "pygments_lexer": "ipython2",
   "version": "2.7.6"
  }
 },
 "nbformat": 4,
 "nbformat_minor": 0
}