{
 "cells": [
  {
   "cell_type": "markdown",
   "source": [
    "### начнем с примера\n",
    "создадим функцию, которая генерирует произвольную строку"
   ],
   "metadata": {
    "collapsed": false,
    "pycharm": {
     "name": "#%% md\n"
    }
   }
  },
  {
   "cell_type": "code",
   "execution_count": 74,
   "outputs": [],
   "source": [
    "import random\n",
    "import string\n",
    "\n",
    "def random_string_generator(str_size, allowed_chars): # \"qwertyuiopasdfghjklzxcvbnm\"\n",
    "    return ''.join(random.choice(allowed_chars) for _ in range(str_size))\n"
   ],
   "metadata": {
    "collapsed": false,
    "pycharm": {
     "name": "#%%\n"
    }
   }
  },
  {
   "cell_type": "markdown",
   "source": [
    "зададим значения"
   ],
   "metadata": {
    "collapsed": false,
    "pycharm": {
     "name": "#%% md\n"
    }
   }
  },
  {
   "cell_type": "code",
   "execution_count": 76,
   "outputs": [
    {
     "name": "stdout",
     "output_type": "stream",
     "text": [
      "abcdefghijklmnopqrstuvwxyzABCDEFGHIJKLMNOPQRSTUVWXYZ0123456789\n"
     ]
    }
   ],
   "source": [
    "chars = string.ascii_lowercase + string.ascii_uppercase + string.digits # [a-zA-Z0-9]\n",
    "print(chars)\n",
    "size = 100"
   ],
   "metadata": {
    "collapsed": false,
    "pycharm": {
     "name": "#%%\n"
    }
   }
  },
  {
   "cell_type": "markdown",
   "source": [
    "вызывем с указанными значениями"
   ],
   "metadata": {
    "collapsed": false,
    "pycharm": {
     "name": "#%% md\n"
    }
   }
  },
  {
   "cell_type": "code",
   "execution_count": 79,
   "outputs": [
    {
     "name": "stdout",
     "output_type": "stream",
     "text": [
      "kwMoHnG8o7A55SSLYFRUxxWLSo7LtjYWwFsd9u0Fi2BQVx2EYCTM9kxTrAONeN8wGVSe2n497c8yPVOxbBh7KgFwExwUfvuHV0vx\n"
     ]
    }
   ],
   "source": [
    "random_string = random_string_generator(size, chars)\n",
    "print(random_string)"
   ],
   "metadata": {
    "collapsed": false,
    "pycharm": {
     "name": "#%%\n"
    }
   }
  },
  {
   "cell_type": "markdown",
   "source": [
    "числа встречаются достаточно часто, попробуем найти максимальную подстроку между числами"
   ],
   "metadata": {
    "collapsed": false,
    "pycharm": {
     "name": "#%% md\n"
    }
   }
  },
  {
   "cell_type": "code",
   "execution_count": 87,
   "outputs": [
    {
     "data": {
      "text/plain": "'8o7A55SSLYFRUxxWLSo7LtjYWwFsd9u0Fi2BQVx2EYCTM9kxTrAONeN8wGVSe2n497c8yPVOxbBh7KgFwExwUfvuHV0'"
     },
     "execution_count": 87,
     "metadata": {},
     "output_type": "execute_result"
    }
   ],
   "source": [
    "import re\n",
    "match = re.search(r\"(\\d\\w*\\d)\", random_string)\n",
    "last_value = match.group(1)\n",
    "last_value"
   ],
   "metadata": {
    "collapsed": false,
    "pycharm": {
     "name": "#%%\n"
    }
   }
  },
  {
   "cell_type": "markdown",
   "source": [
    "сделаем это для 10 тысяч разных строк\n",
    "сгенерируем строки"
   ],
   "metadata": {
    "collapsed": false,
    "pycharm": {
     "name": "#%% md\n"
    }
   }
  },
  {
   "cell_type": "code",
   "execution_count": 88,
   "outputs": [],
   "source": [
    "random_strings_list = [random_string_generator(size, chars) for _ in range(100000)]"
   ],
   "metadata": {
    "collapsed": false,
    "pycharm": {
     "name": "#%%\n"
    }
   }
  },
  {
   "cell_type": "markdown",
   "source": [
    "проверим что получилось осуществив вывод первых 10"
   ],
   "metadata": {
    "collapsed": false,
    "pycharm": {
     "name": "#%% md\n"
    }
   }
  },
  {
   "cell_type": "code",
   "execution_count": 89,
   "outputs": [
    {
     "name": "stdout",
     "output_type": "stream",
     "text": [
      "['XM2VjeriF8QIl5BzYlqnApl2unojTmwuGBecEqAsBOrzH61h9Zod0wOqZxzcEurRDfDmWU8HQnpXOUnOpJkQAjowK1jJmSfG8Wt9', 'Kwunu9IJHW3UUBnfYeaPIqYf1sJOxehGUxCElHNutesthFjqkqRMVXbOqfc0tJVtDZ961fWDt6kNlBdUencwS3xOJDQH0P4L9CHE', 'F2vAzBjyeZKjWob1Crycu9pJutKKbHZoihgKniPQp88AjaE1G6X1DTqkdDCp4ACDV6bwM9Szi22G4UqgvMJGsii46H7VgU9z8mXA', '6XLoNpGt9qBELaisWCvy9lZjmsmM26atEdk9GmQUtXz01xKn8WBtTbERIQ0UY9CrIzEskKqZUNoOipLqJb1DYyVpyVOL6dtK9x3P', '5fPF9zH9KjKnPi641y77eniGiCANdUrCicFeixbHnrKmkIIxhXSr6O4f9iuKlzH22V565aPTK5zbxpKyjBo1aYbTNJYhuWnuMZKB', 'NRwDusUdcjHLtMsm81mQfUvOhIysJLQsRypfmREwFgMKgObWYbhjF6yBsmhDotXx9opoYX9EplXkBN0Pqi2J5cUO6dtFzyrRxZyG', 'crMEr3Z2JIEJp2w6PkQS3KdgpaXDhMh835zOYE6gtBfLXhERWzAm14yYQyyeCJy7Z9ldxXHrwlpbtD7buYjfuIMtXtqpBF2od8Ft', 'doBAtR7REPn6GZBHT6isu2VNeGsSkAZPtttpI9xiIC0E0k1GcKF3SpWnBY8plZqCDTn88WMVqCBm03p1DsBdMG8e1LEEpjCYRHTJ', '5xmq23P21zjlxOVjyRAunUIuA9bhNoky7JXD9P7VLCaFTQAgsAVGgOsCTuprKXriS3ykQmjKDRPisBwScxYWGlj9b7KMLPxoglSy', 'D5B9ztZpJ2cwWXj7xlz1kvdrDYRFdtcpWd6ypvmg5U8lYFFC84WehIELGBAX0FktlFQTfS2gzqDg7Oc8TbdEkvRoA7duuthpF8Yp']\n"
     ]
    }
   ],
   "source": [
    "print(random_strings_list[0:10])"
   ],
   "metadata": {
    "collapsed": false,
    "pycharm": {
     "name": "#%%\n"
    }
   }
  },
  {
   "cell_type": "markdown",
   "source": [
    "применим регулярку для всех строк и посмотрим сколько времени это займет"
   ],
   "metadata": {
    "collapsed": false,
    "pycharm": {
     "name": "#%% md\n"
    }
   }
  },
  {
   "cell_type": "code",
   "execution_count": 90,
   "outputs": [
    {
     "name": "stdout",
     "output_type": "stream",
     "text": [
      "0.07983922958374023\n"
     ]
    }
   ],
   "source": [
    "import time\n",
    "\n",
    "start = time.time()\n",
    "re_random_strings_list_1 = [re.search(r\"(\\d.+\\d)\", _).group(1) for _ in random_strings_list]\n",
    "end = time.time()\n",
    "print(end - start)"
   ],
   "metadata": {
    "collapsed": false,
    "pycharm": {
     "name": "#%%\n"
    }
   }
  },
  {
   "cell_type": "markdown",
   "source": [
    "проверим, что получилось"
   ],
   "metadata": {
    "collapsed": false,
    "pycharm": {
     "name": "#%% md\n"
    }
   }
  },
  {
   "cell_type": "code",
   "execution_count": 91,
   "outputs": [
    {
     "name": "stdout",
     "output_type": "stream",
     "text": [
      "['2VjeriF8QIl5BzYlqnApl2unojTmwuGBecEqAsBOrzH61h9Zod0wOqZxzcEurRDfDmWU8HQnpXOUnOpJkQAjowK1jJmSfG8Wt9', '9IJHW3UUBnfYeaPIqYf1sJOxehGUxCElHNutesthFjqkqRMVXbOqfc0tJVtDZ961fWDt6kNlBdUencwS3xOJDQH0P4L9', '2vAzBjyeZKjWob1Crycu9pJutKKbHZoihgKniPQp88AjaE1G6X1DTqkdDCp4ACDV6bwM9Szi22G4UqgvMJGsii46H7VgU9z8', '6XLoNpGt9qBELaisWCvy9lZjmsmM26atEdk9GmQUtXz01xKn8WBtTbERIQ0UY9CrIzEskKqZUNoOipLqJb1DYyVpyVOL6dtK9x3', '5fPF9zH9KjKnPi641y77eniGiCANdUrCicFeixbHnrKmkIIxhXSr6O4f9iuKlzH22V565aPTK5zbxpKyjBo1', '81mQfUvOhIysJLQsRypfmREwFgMKgObWYbhjF6yBsmhDotXx9opoYX9EplXkBN0Pqi2J5cUO6', '3Z2JIEJp2w6PkQS3KdgpaXDhMh835zOYE6gtBfLXhERWzAm14yYQyyeCJy7Z9ldxXHrwlpbtD7buYjfuIMtXtqpBF2od8', '7REPn6GZBHT6isu2VNeGsSkAZPtttpI9xiIC0E0k1GcKF3SpWnBY8plZqCDTn88WMVqCBm03p1DsBdMG8e1', '5xmq23P21zjlxOVjyRAunUIuA9bhNoky7JXD9P7VLCaFTQAgsAVGgOsCTuprKXriS3ykQmjKDRPisBwScxYWGlj9b7', '5B9ztZpJ2cwWXj7xlz1kvdrDYRFdtcpWd6ypvmg5U8lYFFC84WehIELGBAX0FktlFQTfS2gzqDg7Oc8TbdEkvRoA7duuthpF8']\n"
     ]
    }
   ],
   "source": [
    "print(re_random_strings_list_1[0:10])"
   ],
   "metadata": {
    "collapsed": false,
    "pycharm": {
     "name": "#%%\n"
    }
   }
  },
  {
   "cell_type": "markdown",
   "source": [
    "сделаем тоже самое, только предварительно осуществим компиляцию регулярки"
   ],
   "metadata": {
    "collapsed": false,
    "pycharm": {
     "name": "#%% md\n"
    }
   }
  },
  {
   "cell_type": "code",
   "execution_count": 92,
   "outputs": [],
   "source": [
    "random_strings_list = [random_string_generator(size, chars) for _ in range(100000)]"
   ],
   "metadata": {
    "collapsed": false,
    "pycharm": {
     "name": "#%%\n"
    }
   }
  },
  {
   "cell_type": "code",
   "execution_count": 93,
   "outputs": [
    {
     "name": "stdout",
     "output_type": "stream",
     "text": [
      "0.049896955490112305\n"
     ]
    }
   ],
   "source": [
    "import time\n",
    "\n",
    "start = time.time()\n",
    "reg = re.compile(r\"(\\d.+\\d)\")\n",
    "re_random_strings_list_2 = [ reg.search(_).group(1) for _ in random_strings_list]\n",
    "end = time.time()\n",
    "print(end - start)"
   ],
   "metadata": {
    "collapsed": false,
    "pycharm": {
     "name": "#%%\n"
    }
   }
  },
  {
   "cell_type": "code",
   "execution_count": 94,
   "outputs": [
    {
     "name": "stdout",
     "output_type": "stream",
     "text": [
      "['6QVKblNVvtyFQTYHahTF9GUmKObDlSKVvntTWp27PV0tLSlyLlkwbrrRidwIgT8', '4S8zSJO6cyiiQ7OH3R2QvfkAcfjNfYbTRhK1o5DTteom6FCBJdu1u58ISlpCuMKCXXpPMQsMmpd2k0HxhoyQ3CdtTRTj7b1', '2GAghQ0nqj1vHJowzmZALGGpAH0uAwuZJm0NEZauQrHLi0mSSPiILJhiNm98QCCrN0TAHEzUkrbLlugGFzQhDjxzdAP6a81', '1dumDWwcmslYptVD2UBGFDA2836sfnHV08FGOzddijfNreunMqIvsAmIcj9kXb0nwH97jkvSOSltgWtkUeUjjitTx41vz5j5u87', '5LuSwHYqmn3JCjlatmFb4keXSVj8CDuEiKxgvc6JVPngBVDcsvmK07fWfhT8Rb14qU07G2Y9eYPMQfSJQdMP3N6WocvvQohjvy7', '5VOW3KwzBtACRUUnYyV8vOPsI3EARN9lSzKu6A1c4zfKi9NOlxsZfQP1xB2Z6WPQ1NOETxJO3GZQAgCHDhZ9', '2RBODeM0AvlWZzgkAevy7cB8Zl3azKBSEaNHG2UkDcqZPwjwxQfDPWwaKz3kKmcqLb23jlNhf0HcQDMibdppJnScldzdON7K4', '8BaFtUrX1rW0QQrY5EEtwG4OZceHpYzKtzr6nIDSBpW0vU7CJNKR4gmQ7LSb6X4vFDDRkjJ4Ge9', '76d9b8PJjXl6DBIhRvGrtWjb5eImGy7hIItTHaKu9I5xLf30Sfhgw21vxcbmai7nOSVmkeFZuzkypA7OZ47vtm9bVZe1', '0swcHKKejSONlSCMdxWEIuOobGomZ5p1UuFoPNx1IrXIvulY6iGyIooDobYQauzSQXCc8YXFvdkgMXcOHGV8CqeFZH5n8']\n"
     ]
    }
   ],
   "source": [
    "print(re_random_strings_list_2[0:10])"
   ],
   "metadata": {
    "collapsed": false,
    "pycharm": {
     "name": "#%%\n"
    }
   }
  },
  {
   "cell_type": "markdown",
   "source": [
    "вывод: при многократном использовании даже простой регулярки, лучше её предварительно скомпилировать"
   ],
   "metadata": {
    "collapsed": false,
    "pycharm": {
     "name": "#%% md\n"
    }
   }
  },
  {
   "cell_type": "code",
   "execution_count": null,
   "outputs": [],
   "source": [],
   "metadata": {
    "collapsed": false,
    "pycharm": {
     "name": "#%%\n"
    }
   }
  }
 ],
 "metadata": {
  "kernelspec": {
   "display_name": "Python 3",
   "language": "python",
   "name": "python3"
  },
  "language_info": {
   "codemirror_mode": {
    "name": "ipython",
    "version": 2
   },
   "file_extension": ".py",
   "mimetype": "text/x-python",
   "name": "python",
   "nbconvert_exporter": "python",
   "pygments_lexer": "ipython2",
   "version": "2.7.6"
  }
 },
 "nbformat": 4,
 "nbformat_minor": 0
}